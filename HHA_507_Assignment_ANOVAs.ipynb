{
  "nbformat": 4,
  "nbformat_minor": 0,
  "metadata": {
    "colab": {
      "name": "HHA 507 Assignment ANOVAs",
      "provenance": [],
      "include_colab_link": true
    },
    "kernelspec": {
      "name": "python3",
      "display_name": "Python 3"
    },
    "language_info": {
      "name": "python"
    }
  },
  "cells": [
    {
      "cell_type": "markdown",
      "metadata": {
        "id": "view-in-github",
        "colab_type": "text"
      },
      "source": [
        "<a href=\"https://colab.research.google.com/github/yongj01/HHA-507-Assignment-ANOVAs/blob/main/HHA_507_Assignment_ANOVAs.ipynb\" target=\"_parent\"><img src=\"https://colab.research.google.com/assets/colab-badge.svg\" alt=\"Open In Colab\"/></a>"
      ]
    },
    {
      "cell_type": "code",
      "metadata": {
        "id": "O86J_i4xe2OE"
      },
      "source": [
        "import pandas as pd\n",
        "import numpy as np\n",
        "import scipy.stats as stats\n",
        "import statsmodels.formula.api as smf\n",
        "import matplotlib.pyplot as plt\n",
        "from scipy.stats import kurtosis, skew, bartlett"
      ],
      "execution_count": null,
      "outputs": []
    },
    {
      "cell_type": "code",
      "metadata": {
        "id": "VXaOFySwfLfC"
      },
      "source": [
        "covid19 = pd.read_csv('https://healthdata.gov/resource/g62h-syeh.csv')\n",
        "\n",
        "covid19_small = covid19.sample(100)"
      ],
      "execution_count": null,
      "outputs": []
    },
    {
      "cell_type": "code",
      "metadata": {
        "id": "nqoXdCPViG-a"
      },
      "source": [
        "covid19_small"
      ],
      "execution_count": null,
      "outputs": []
    },
    {
      "cell_type": "code",
      "metadata": {
        "id": "Bz_QBuhdkdq2"
      },
      "source": [
        "list(covid19_small)\n"
      ],
      "execution_count": null,
      "outputs": []
    },
    {
      "cell_type": "markdown",
      "metadata": {
        "id": "AkKoj5k3kw_1"
      },
      "source": [
        "## 1 factor of STATE we have 54 levels"
      ]
    },
    {
      "cell_type": "code",
      "metadata": {
        "id": "VhPi_MlRklJE"
      },
      "source": [
        "covid19_small.state.value_counts()\n",
        "len(covid19_small['state'].value_counts())\n"
      ],
      "execution_count": null,
      "outputs": []
    },
    {
      "cell_type": "markdown",
      "metadata": {
        "id": "x0ID9o0pk4xh"
      },
      "source": [
        "# 1 factor of DATE we have 83 levels\n"
      ]
    },
    {
      "cell_type": "code",
      "metadata": {
        "colab": {
          "base_uri": "https://localhost:8080/"
        },
        "id": "TtAwvqNzksHX",
        "outputId": "bf58457d-b534-4288-cacc-74328848f30d"
      },
      "source": [
        "covid19_small.date.value_counts()\n",
        "len(covid19_small.date.value_counts())"
      ],
      "execution_count": null,
      "outputs": [
        {
          "output_type": "execute_result",
          "data": {
            "text/plain": [
              "83"
            ]
          },
          "metadata": {},
          "execution_count": 25
        }
      ]
    },
    {
      "cell_type": "markdown",
      "metadata": {
        "id": "3AbkVlvDlBo9"
      },
      "source": [
        "# 1 factor of critical_staffing_shortage_today_yes we have 25 levels \n"
      ]
    },
    {
      "cell_type": "code",
      "metadata": {
        "colab": {
          "base_uri": "https://localhost:8080/"
        },
        "id": "CCbtHv_qk6iP",
        "outputId": "02ac60ef-2da2-4132-fe13-f92e357d1055"
      },
      "source": [
        "covid19_small.critical_staffing_shortage_today_yes.value_counts()\n",
        "len(covid19_small.critical_staffing_shortage_today_yes.value_counts())"
      ],
      "execution_count": null,
      "outputs": [
        {
          "output_type": "execute_result",
          "data": {
            "text/plain": [
              "25"
            ]
          },
          "metadata": {},
          "execution_count": 26
        }
      ]
    },
    {
      "cell_type": "markdown",
      "metadata": {
        "id": "uiydiz6OlfZu"
      },
      "source": [
        "1 way anova \n",
        "1 Dependent Variable - deaths_covid\n",
        "1 Independent Variable - state \n",
        "\n"
      ]
    },
    {
      "cell_type": "markdown",
      "metadata": {
        "id": "KJf35INLqROp"
      },
      "source": [
        "Is there a difference between the state\n",
        "and COVID deaths? "
      ]
    },
    {
      "cell_type": "code",
      "metadata": {
        "colab": {
          "base_uri": "https://localhost:8080/"
        },
        "id": "RdpzXHhElosg",
        "outputId": "85e8ceda-85d7-46f9-d86f-397c586e4eb9"
      },
      "source": [
        "model = smf.ols(\"deaths_covid ~ C(state)\", data = covid19_small).fit()\n",
        "stats.shapiro(model.resid)"
      ],
      "execution_count": null,
      "outputs": [
        {
          "output_type": "execute_result",
          "data": {
            "text/plain": [
              "(0.6798909306526184, 2.2199103178518337e-13)"
            ]
          },
          "metadata": {},
          "execution_count": 27
        }
      ]
    },
    {
      "cell_type": "code",
      "metadata": {
        "id": "FaaSRMkGnS_f"
      },
      "source": [
        "df1 = covid19_small [['state', 'date','critical_staffing_shortage_today_yes'] ]\n",
        "df1"
      ],
      "execution_count": null,
      "outputs": []
    },
    {
      "cell_type": "code",
      "metadata": {
        "id": "IbnIdns7pW5l"
      },
      "source": [
        "import scipy.stats as stats\n",
        "stats.f_oneway(df['dataColumn'][df['categoryColumn'] == 'category1'],\n",
        "                df['dataColumn'][df['categoryColumn'] == 'category2'],\n",
        "                df['dataColumn'][df['categoryColumn'] == ‘category3'])"
      ],
      "execution_count": null,
      "outputs": []
    },
    {
      "cell_type": "markdown",
      "metadata": {
        "id": "QVcRzA3Ip5Fq"
      },
      "source": [
        "Is there a difference between the DATE\n",
        "and COVID deaths?"
      ]
    },
    {
      "cell_type": "markdown",
      "metadata": {
        "id": "B2amrF4qp9YW"
      },
      "source": [
        "Is there a difference between staffing shortages\n",
        "and COVID deaths?"
      ]
    },
    {
      "cell_type": "code",
      "metadata": {
        "id": "G3m80S8orjZz"
      },
      "source": [
        ""
      ],
      "execution_count": null,
      "outputs": []
    }
  ]
}