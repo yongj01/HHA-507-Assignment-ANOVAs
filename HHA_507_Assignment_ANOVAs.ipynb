{
  "nbformat": 4,
  "nbformat_minor": 0,
  "metadata": {
    "colab": {
      "name": "HHA 507 Assignment ANOVAs",
      "provenance": [],
      "include_colab_link": true
    },
    "kernelspec": {
      "name": "python3",
      "display_name": "Python 3"
    },
    "language_info": {
      "name": "python"
    }
  },
  "cells": [
    {
      "cell_type": "markdown",
      "metadata": {
        "id": "view-in-github",
        "colab_type": "text"
      },
      "source": [
        "<a href=\"https://colab.research.google.com/github/yongj01/HHA-507-Assignment-ANOVAs/blob/main/HHA_507_Assignment_ANOVAs.ipynb\" target=\"_parent\"><img src=\"https://colab.research.google.com/assets/colab-badge.svg\" alt=\"Open In Colab\"/></a>"
      ]
    },
    {
      "cell_type": "code",
      "metadata": {
        "id": "O86J_i4xe2OE"
      },
      "source": [
        "import pandas as pd\n",
        "import numpy as np\n",
        "import scipy.stats as stats\n",
        "import statsmodels.api as sm\n",
        "import statsmodels.formula.api as smf\n",
        "import matplotlib.pyplot as plt\n",
        "from scipy.stats import kurtosis, skew, bartlett"
      ],
      "execution_count": null,
      "outputs": []
    },
    {
      "cell_type": "code",
      "metadata": {
        "id": "VXaOFySwfLfC"
      },
      "source": [
        "covid19 = pd.read_csv('https://healthdata.gov/resource/g62h-syeh.csv')\n",
        "\n",
        "covid19_small = covid19.sample(100)"
      ],
      "execution_count": null,
      "outputs": []
    },
    {
      "cell_type": "code",
      "metadata": {
        "id": "nqoXdCPViG-a"
      },
      "source": [
        "covid19_small"
      ],
      "execution_count": null,
      "outputs": []
    },
    {
      "cell_type": "code",
      "metadata": {
        "id": "Bz_QBuhdkdq2"
      },
      "source": [
        "list(covid19_small)\n"
      ],
      "execution_count": null,
      "outputs": []
    },
    {
      "cell_type": "markdown",
      "metadata": {
        "id": "AkKoj5k3kw_1"
      },
      "source": [
        "## 1 factor of STATE we have 54 levels"
      ]
    },
    {
      "cell_type": "code",
      "metadata": {
        "id": "VhPi_MlRklJE"
      },
      "source": [
        "covid19_small.state.value_counts()\n",
        "len(covid19_small['state'].value_counts())\n"
      ],
      "execution_count": null,
      "outputs": []
    },
    {
      "cell_type": "markdown",
      "metadata": {
        "id": "x0ID9o0pk4xh"
      },
      "source": [
        "# 1 factor of DATE we have 83 levels\n"
      ]
    },
    {
      "cell_type": "code",
      "metadata": {
        "id": "TtAwvqNzksHX"
      },
      "source": [
        "covid19_small.date.value_counts()\n",
        "len(covid19_small.date.value_counts())"
      ],
      "execution_count": null,
      "outputs": []
    },
    {
      "cell_type": "markdown",
      "metadata": {
        "id": "3AbkVlvDlBo9"
      },
      "source": [
        "# 1 factor of critical_staffing_shortage_today_yes we have 25 levels \n"
      ]
    },
    {
      "cell_type": "code",
      "metadata": {
        "colab": {
          "base_uri": "https://localhost:8080/"
        },
        "id": "CCbtHv_qk6iP",
        "outputId": "91f02f2c-dde5-45a4-96b0-61c19ee862ea"
      },
      "source": [
        "covid19_small.critical_staffing_shortage_today_yes.value_counts()\n",
        "len(covid19_small.critical_staffing_shortage_today_yes.value_counts())"
      ],
      "execution_count": null,
      "outputs": [
        {
          "output_type": "execute_result",
          "data": {
            "text/plain": [
              "22"
            ]
          },
          "metadata": {},
          "execution_count": 23
        }
      ]
    },
    {
      "cell_type": "markdown",
      "metadata": {
        "id": "uiydiz6OlfZu"
      },
      "source": [
        "1 way anova \n",
        "1 Dependent Variable - deaths_covid\n",
        "1 Independent Variable - state \n",
        "\n"
      ]
    },
    {
      "cell_type": "code",
      "metadata": {
        "id": "FaaSRMkGnS_f"
      },
      "source": [
        "df1 = covid19_small [['state', 'date','critical_staffing_shortage_today_yes'] ]\n",
        "df1"
      ],
      "execution_count": null,
      "outputs": []
    },
    {
      "cell_type": "markdown",
      "metadata": {
        "id": "KJf35INLqROp"
      },
      "source": [
        "Is there a difference between the state\n",
        "and COVID deaths? "
      ]
    },
    {
      "cell_type": "code",
      "metadata": {
        "colab": {
          "base_uri": "https://localhost:8080/"
        },
        "id": "RdpzXHhElosg",
        "outputId": "81ccb9f8-34a3-42d6-ad0b-0f1b043eaf56"
      },
      "source": [
        "model1 = smf.ols(\"deaths_covid ~ C(state)\", data = covid19_small).fit()\n",
        "stats.shapiro(model1.resid)"
      ],
      "execution_count": null,
      "outputs": [
        {
          "output_type": "execute_result",
          "data": {
            "text/plain": [
              "(0.1737247109413147, 5.821373225927863e-21)"
            ]
          },
          "metadata": {},
          "execution_count": 31
        }
      ]
    },
    {
      "cell_type": "code",
      "metadata": {
        "colab": {
          "base_uri": "https://localhost:8080/",
          "height": 111
        },
        "id": "StOJko5Ju34h",
        "outputId": "f0102a77-c1a8-4403-cfcd-da6e52deab4f"
      },
      "source": [
        "sm.stats.anova_lm(model1)"
      ],
      "execution_count": null,
      "outputs": [
        {
          "output_type": "execute_result",
          "data": {
            "text/html": [
              "<div>\n",
              "<style scoped>\n",
              "    .dataframe tbody tr th:only-of-type {\n",
              "        vertical-align: middle;\n",
              "    }\n",
              "\n",
              "    .dataframe tbody tr th {\n",
              "        vertical-align: top;\n",
              "    }\n",
              "\n",
              "    .dataframe thead th {\n",
              "        text-align: right;\n",
              "    }\n",
              "</style>\n",
              "<table border=\"1\" class=\"dataframe\">\n",
              "  <thead>\n",
              "    <tr style=\"text-align: right;\">\n",
              "      <th></th>\n",
              "      <th>df</th>\n",
              "      <th>sum_sq</th>\n",
              "      <th>mean_sq</th>\n",
              "      <th>F</th>\n",
              "      <th>PR(&gt;F)</th>\n",
              "    </tr>\n",
              "  </thead>\n",
              "  <tbody>\n",
              "    <tr>\n",
              "      <th>C(state)</th>\n",
              "      <td>44.0</td>\n",
              "      <td>2.402374e+06</td>\n",
              "      <td>54599.399923</td>\n",
              "      <td>1.241071</td>\n",
              "      <td>0.223643</td>\n",
              "    </tr>\n",
              "    <tr>\n",
              "      <th>Residual</th>\n",
              "      <td>54.0</td>\n",
              "      <td>2.375664e+06</td>\n",
              "      <td>43993.773148</td>\n",
              "      <td>NaN</td>\n",
              "      <td>NaN</td>\n",
              "    </tr>\n",
              "  </tbody>\n",
              "</table>\n",
              "</div>"
            ],
            "text/plain": [
              "            df        sum_sq       mean_sq         F    PR(>F)\n",
              "C(state)  44.0  2.402374e+06  54599.399923  1.241071  0.223643\n",
              "Residual  54.0  2.375664e+06  43993.773148       NaN       NaN"
            ]
          },
          "metadata": {},
          "execution_count": 39
        }
      ]
    },
    {
      "cell_type": "markdown",
      "metadata": {
        "id": "kFKjcC2OvaHO"
      },
      "source": [
        "TUKEY TEST"
      ]
    },
    {
      "cell_type": "code",
      "metadata": {
        "id": "TFh-clA7ym-Y"
      },
      "source": [
        "import statsmodels.stats.multicomp as mc\n",
        "comp = mc.MultiComparison(df['dataColumn'], df['categoryColumn'])\n",
        "post_hoc_res = comp.tukeyhsd()\n",
        "post_hoc_res.summary()"
      ],
      "execution_count": null,
      "outputs": []
    },
    {
      "cell_type": "markdown",
      "metadata": {
        "id": "QVcRzA3Ip5Fq"
      },
      "source": [
        "Is there a difference between the DATE\n",
        "and COVID deaths?"
      ]
    },
    {
      "cell_type": "code",
      "metadata": {
        "colab": {
          "base_uri": "https://localhost:8080/"
        },
        "id": "PhVRXGcHq-BD",
        "outputId": "76af7634-60bd-496a-f15b-397aaa1b7e53"
      },
      "source": [
        "model2 = smf.ols(\"deaths_covid ~ C(date)\", data = covid19_small).fit()\n",
        "stats.shapiro(model2.resid)"
      ],
      "execution_count": null,
      "outputs": [
        {
          "output_type": "execute_result",
          "data": {
            "text/plain": [
              "(0.16690093278884888, 4.901817783923473e-21)"
            ]
          },
          "metadata": {},
          "execution_count": 33
        }
      ]
    },
    {
      "cell_type": "code",
      "metadata": {
        "colab": {
          "base_uri": "https://localhost:8080/",
          "height": 111
        },
        "id": "yuuttZIlyFak",
        "outputId": "7bdb8b2f-4873-45f2-984e-b3c2d496d76f"
      },
      "source": [
        "sm.stats.anova_lm(model2)"
      ],
      "execution_count": null,
      "outputs": [
        {
          "output_type": "execute_result",
          "data": {
            "text/html": [
              "<div>\n",
              "<style scoped>\n",
              "    .dataframe tbody tr th:only-of-type {\n",
              "        vertical-align: middle;\n",
              "    }\n",
              "\n",
              "    .dataframe tbody tr th {\n",
              "        vertical-align: top;\n",
              "    }\n",
              "\n",
              "    .dataframe thead th {\n",
              "        text-align: right;\n",
              "    }\n",
              "</style>\n",
              "<table border=\"1\" class=\"dataframe\">\n",
              "  <thead>\n",
              "    <tr style=\"text-align: right;\">\n",
              "      <th></th>\n",
              "      <th>df</th>\n",
              "      <th>sum_sq</th>\n",
              "      <th>mean_sq</th>\n",
              "      <th>F</th>\n",
              "      <th>PR(&gt;F)</th>\n",
              "    </tr>\n",
              "  </thead>\n",
              "  <tbody>\n",
              "    <tr>\n",
              "      <th>C(date)</th>\n",
              "      <td>81.0</td>\n",
              "      <td>2.488129e+06</td>\n",
              "      <td>30717.643768</td>\n",
              "      <td>0.218111</td>\n",
              "      <td>0.999999</td>\n",
              "    </tr>\n",
              "    <tr>\n",
              "      <th>Residual</th>\n",
              "      <td>17.0</td>\n",
              "      <td>2.394198e+06</td>\n",
              "      <td>140835.161765</td>\n",
              "      <td>NaN</td>\n",
              "      <td>NaN</td>\n",
              "    </tr>\n",
              "  </tbody>\n",
              "</table>\n",
              "</div>"
            ],
            "text/plain": [
              "            df        sum_sq        mean_sq         F    PR(>F)\n",
              "C(date)   81.0  2.488129e+06   30717.643768  0.218111  0.999999\n",
              "Residual  17.0  2.394198e+06  140835.161765       NaN       NaN"
            ]
          },
          "metadata": {},
          "execution_count": 40
        }
      ]
    },
    {
      "cell_type": "markdown",
      "metadata": {
        "id": "ElL33kaLysA4"
      },
      "source": [
        "TUKEY TEST"
      ]
    },
    {
      "cell_type": "code",
      "metadata": {
        "id": "0h_b_i8cyrD_"
      },
      "source": [
        "import statsmodels.stats.multicomp as mc\n",
        "comp = mc.MultiComparison(df['dataColumn'], df['categoryColumn'])\n",
        "post_hoc_res = comp.tukeyhsd()\n",
        "post_hoc_res.summary()"
      ],
      "execution_count": null,
      "outputs": []
    },
    {
      "cell_type": "markdown",
      "metadata": {
        "id": "B2amrF4qp9YW"
      },
      "source": [
        "Is there a difference between staffing shortages\n",
        "and COVID deaths?"
      ]
    },
    {
      "cell_type": "code",
      "metadata": {
        "id": "G3m80S8orjZz",
        "colab": {
          "base_uri": "https://localhost:8080/"
        },
        "outputId": "197a72d4-0dcb-4dfd-9eee-1bcd231b7bf8"
      },
      "source": [
        "model3 = smf.ols(\"deaths_covid ~ C(critical_staffing_shortage_today_yes)\", data = covid19_small).fit()\n",
        "stats.shapiro(model3.resid)"
      ],
      "execution_count": null,
      "outputs": [
        {
          "output_type": "execute_result",
          "data": {
            "text/plain": [
              "(0.17682123184204102, 6.296006472574593e-21)"
            ]
          },
          "metadata": {},
          "execution_count": 34
        }
      ]
    },
    {
      "cell_type": "code",
      "metadata": {
        "colab": {
          "base_uri": "https://localhost:8080/",
          "height": 111
        },
        "id": "cAAU4OekyISf",
        "outputId": "dd89c98e-aa55-495f-c093-f6a0f48034ab"
      },
      "source": [
        "sm.stats.anova_lm(model3)"
      ],
      "execution_count": null,
      "outputs": [
        {
          "output_type": "execute_result",
          "data": {
            "text/html": [
              "<div>\n",
              "<style scoped>\n",
              "    .dataframe tbody tr th:only-of-type {\n",
              "        vertical-align: middle;\n",
              "    }\n",
              "\n",
              "    .dataframe tbody tr th {\n",
              "        vertical-align: top;\n",
              "    }\n",
              "\n",
              "    .dataframe thead th {\n",
              "        text-align: right;\n",
              "    }\n",
              "</style>\n",
              "<table border=\"1\" class=\"dataframe\">\n",
              "  <thead>\n",
              "    <tr style=\"text-align: right;\">\n",
              "      <th></th>\n",
              "      <th>df</th>\n",
              "      <th>sum_sq</th>\n",
              "      <th>mean_sq</th>\n",
              "      <th>F</th>\n",
              "      <th>PR(&gt;F)</th>\n",
              "    </tr>\n",
              "  </thead>\n",
              "  <tbody>\n",
              "    <tr>\n",
              "      <th>C(critical_staffing_shortage_today_yes)</th>\n",
              "      <td>21.0</td>\n",
              "      <td>9.781854e+04</td>\n",
              "      <td>4658.025747</td>\n",
              "      <td>0.07564</td>\n",
              "      <td>1.0</td>\n",
              "    </tr>\n",
              "    <tr>\n",
              "      <th>Residual</th>\n",
              "      <td>76.0</td>\n",
              "      <td>4.680208e+06</td>\n",
              "      <td>61581.687837</td>\n",
              "      <td>NaN</td>\n",
              "      <td>NaN</td>\n",
              "    </tr>\n",
              "  </tbody>\n",
              "</table>\n",
              "</div>"
            ],
            "text/plain": [
              "                                           df        sum_sq  ...        F  PR(>F)\n",
              "C(critical_staffing_shortage_today_yes)  21.0  9.781854e+04  ...  0.07564     1.0\n",
              "Residual                                 76.0  4.680208e+06  ...      NaN     NaN\n",
              "\n",
              "[2 rows x 5 columns]"
            ]
          },
          "metadata": {},
          "execution_count": 41
        }
      ]
    }
  ]
}