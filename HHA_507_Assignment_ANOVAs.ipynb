{
  "nbformat": 4,
  "nbformat_minor": 0,
  "metadata": {
    "colab": {
      "name": "HHA 507 Assignment ANOVAs",
      "provenance": [],
      "collapsed_sections": [],
      "include_colab_link": true
    },
    "kernelspec": {
      "display_name": "Python 3",
      "name": "python3"
    },
    "language_info": {
      "name": "python"
    }
  },
  "cells": [
    {
      "cell_type": "markdown",
      "metadata": {
        "id": "view-in-github",
        "colab_type": "text"
      },
      "source": [
        "<a href=\"https://colab.research.google.com/github/yongj01/HHA-507-Assignment-ANOVAs/blob/main/HHA_507_Assignment_ANOVAs.ipynb\" target=\"_parent\"><img src=\"https://colab.research.google.com/assets/colab-badge.svg\" alt=\"Open In Colab\"/></a>"
      ]
    },
    {
      "cell_type": "markdown",
      "metadata": {
        "id": "UB85BDYLgvWz"
      },
      "source": [
        "# Import all packages"
      ]
    },
    {
      "cell_type": "code",
      "metadata": {
        "id": "O86J_i4xe2OE"
      },
      "source": [
        "import pandas as pd\n",
        "import numpy as np\n",
        "import scipy.stats as stats\n",
        "import statsmodels.api as sm\n",
        "import statsmodels.formula.api as smf\n",
        "import statsmodels.stats.multicomp as mc\n",
        "import matplotlib.pyplot as plt\n",
        "from scipy.stats import kurtosis, skew, bartlett"
      ],
      "execution_count": 23,
      "outputs": []
    },
    {
      "cell_type": "markdown",
      "metadata": {
        "id": "eLqsg9r0gzPP"
      },
      "source": [
        "# Loading the dataset"
      ]
    },
    {
      "cell_type": "code",
      "metadata": {
        "id": "VXaOFySwfLfC"
      },
      "source": [
        "covid19 = pd.read_csv('https://healthdata.gov/resource/g62h-syeh.csv')"
      ],
      "execution_count": 13,
      "outputs": []
    },
    {
      "cell_type": "markdown",
      "metadata": {
        "id": "hh6zvLtxg_ux"
      },
      "source": [
        "# Taking a small sample of the dataset"
      ]
    },
    {
      "cell_type": "code",
      "metadata": {
        "id": "Vjs2CvOwg3R-"
      },
      "source": [
        "covid19_small = covid19.sample(100)"
      ],
      "execution_count": null,
      "outputs": []
    },
    {
      "cell_type": "code",
      "metadata": {
        "id": "nqoXdCPViG-a"
      },
      "source": [
        "covid19_small"
      ],
      "execution_count": null,
      "outputs": []
    },
    {
      "cell_type": "markdown",
      "metadata": {
        "id": "ESVpxp3OhFsd"
      },
      "source": [
        "# Listing the possible variables for ANOVA test\n"
      ]
    },
    {
      "cell_type": "code",
      "metadata": {
        "id": "Bz_QBuhdkdq2"
      },
      "source": [
        "list(covid19_small)\n"
      ],
      "execution_count": null,
      "outputs": []
    },
    {
      "cell_type": "markdown",
      "metadata": {
        "id": "AkKoj5k3kw_1"
      },
      "source": [
        "## 1 factor of STATE we have 46 levels"
      ]
    },
    {
      "cell_type": "code",
      "metadata": {
        "colab": {
          "base_uri": "https://localhost:8080/"
        },
        "id": "VhPi_MlRklJE",
        "outputId": "aee5acbe-1ce5-4498-c1be-32e0a8f0d2fc"
      },
      "source": [
        "covid19_small.state.value_counts()\n",
        "len(covid19_small['state'].value_counts())\n"
      ],
      "execution_count": 25,
      "outputs": [
        {
          "output_type": "execute_result",
          "data": {
            "text/plain": [
              "46"
            ]
          },
          "metadata": {},
          "execution_count": 25
        }
      ]
    },
    {
      "cell_type": "markdown",
      "metadata": {
        "id": "x0ID9o0pk4xh"
      },
      "source": [
        "# 1 factor of DATE we have 88 levels"
      ]
    },
    {
      "cell_type": "code",
      "metadata": {
        "colab": {
          "base_uri": "https://localhost:8080/"
        },
        "id": "TtAwvqNzksHX",
        "outputId": "82d53921-ed44-4b8f-b0e3-2bbca8b44398"
      },
      "source": [
        "covid19_small.date.value_counts()\n",
        "len(covid19_small.date.value_counts())"
      ],
      "execution_count": 27,
      "outputs": [
        {
          "output_type": "execute_result",
          "data": {
            "text/plain": [
              "88"
            ]
          },
          "metadata": {},
          "execution_count": 27
        }
      ]
    },
    {
      "cell_type": "markdown",
      "metadata": {
        "id": "3AbkVlvDlBo9"
      },
      "source": [
        "# 1 factor of STAFFING SHORTAGE we have 29 levels \n"
      ]
    },
    {
      "cell_type": "code",
      "metadata": {
        "colab": {
          "base_uri": "https://localhost:8080/"
        },
        "id": "CCbtHv_qk6iP",
        "outputId": "c296bd61-a061-4bb4-d2bc-cc234a3c8b3e"
      },
      "source": [
        "covid19_small.critical_staffing_shortage_today_yes.value_counts()\n",
        "len(covid19_small.critical_staffing_shortage_today_yes.value_counts())"
      ],
      "execution_count": 29,
      "outputs": [
        {
          "output_type": "execute_result",
          "data": {
            "text/plain": [
              "29"
            ]
          },
          "metadata": {},
          "execution_count": 29
        }
      ]
    },
    {
      "cell_type": "markdown",
      "metadata": {
        "id": "uiydiz6OlfZu"
      },
      "source": [
        "# 1 way anova \n",
        "# 1 Dependent Variable - deaths_covid\n",
        "# 1 Independent Variable - state \n",
        "\n"
      ]
    },
    {
      "cell_type": "markdown",
      "metadata": {
        "id": "uXkKQM0Qhbu6"
      },
      "source": [
        "# Creating a datafram with the variables\n"
      ]
    },
    {
      "cell_type": "code",
      "metadata": {
        "id": "FaaSRMkGnS_f"
      },
      "source": [
        "df1 = covid19_small [['state', 'date','critical_staffing_shortage_today_yes'] ]\n",
        "df1"
      ],
      "execution_count": null,
      "outputs": []
    },
    {
      "cell_type": "markdown",
      "metadata": {
        "id": "KJf35INLqROp"
      },
      "source": [
        "# First ANOVA question: Is there a difference between the state\n",
        "# and COVID deaths? "
      ]
    },
    {
      "cell_type": "code",
      "metadata": {
        "colab": {
          "base_uri": "https://localhost:8080/"
        },
        "id": "RdpzXHhElosg",
        "outputId": "53d1544e-808f-44a0-c506-33d4729a15a8"
      },
      "source": [
        "model1 = smf.ols(\"deaths_covid ~ C(state)\", data = covid19_small).fit()\n",
        "stats.shapiro(model1.resid)"
      ],
      "execution_count": 35,
      "outputs": [
        {
          "output_type": "execute_result",
          "data": {
            "text/plain": [
              "(0.6269840002059937, 2.4527922688798512e-14)"
            ]
          },
          "metadata": {},
          "execution_count": 35
        }
      ]
    },
    {
      "cell_type": "code",
      "metadata": {
        "colab": {
          "base_uri": "https://localhost:8080/",
          "height": 111
        },
        "id": "StOJko5Ju34h",
        "outputId": "4ca5bd97-88cb-4085-8bd9-06fc270f2dba"
      },
      "source": [
        "sm.stats.anova_lm(model1)"
      ],
      "execution_count": 34,
      "outputs": [
        {
          "output_type": "execute_result",
          "data": {
            "text/html": [
              "<div>\n",
              "<style scoped>\n",
              "    .dataframe tbody tr th:only-of-type {\n",
              "        vertical-align: middle;\n",
              "    }\n",
              "\n",
              "    .dataframe tbody tr th {\n",
              "        vertical-align: top;\n",
              "    }\n",
              "\n",
              "    .dataframe thead th {\n",
              "        text-align: right;\n",
              "    }\n",
              "</style>\n",
              "<table border=\"1\" class=\"dataframe\">\n",
              "  <thead>\n",
              "    <tr style=\"text-align: right;\">\n",
              "      <th></th>\n",
              "      <th>df</th>\n",
              "      <th>sum_sq</th>\n",
              "      <th>mean_sq</th>\n",
              "      <th>F</th>\n",
              "      <th>PR(&gt;F)</th>\n",
              "    </tr>\n",
              "  </thead>\n",
              "  <tbody>\n",
              "    <tr>\n",
              "      <th>C(state)</th>\n",
              "      <td>45.0</td>\n",
              "      <td>38294.388160</td>\n",
              "      <td>850.986404</td>\n",
              "      <td>2.138221</td>\n",
              "      <td>0.004325</td>\n",
              "    </tr>\n",
              "    <tr>\n",
              "      <th>Residual</th>\n",
              "      <td>52.0</td>\n",
              "      <td>20695.383333</td>\n",
              "      <td>397.988141</td>\n",
              "      <td>NaN</td>\n",
              "      <td>NaN</td>\n",
              "    </tr>\n",
              "  </tbody>\n",
              "</table>\n",
              "</div>"
            ],
            "text/plain": [
              "            df        sum_sq     mean_sq         F    PR(>F)\n",
              "C(state)  45.0  38294.388160  850.986404  2.138221  0.004325\n",
              "Residual  52.0  20695.383333  397.988141       NaN       NaN"
            ]
          },
          "metadata": {},
          "execution_count": 34
        }
      ]
    },
    {
      "cell_type": "markdown",
      "metadata": {
        "id": "fMGTAXfTiDuI"
      },
      "source": [
        "# The p value is less than 0.05 so theres is a significant difference between the state and COVID deaths"
      ]
    },
    {
      "cell_type": "markdown",
      "metadata": {
        "id": "kFKjcC2OvaHO"
      },
      "source": [
        "# TUKEY POST HOC TEST"
      ]
    },
    {
      "cell_type": "code",
      "metadata": {
        "id": "TFh-clA7ym-Y"
      },
      "source": [
        "import statsmodels.stats.multicomp as mc\n",
        "comp = mc.MultiComparison(df['dataColumn'], df['categoryColumn'])\n",
        "post_hoc_res = comp.tukeyhsd()\n",
        "post_hoc_res.summary()"
      ],
      "execution_count": null,
      "outputs": []
    },
    {
      "cell_type": "markdown",
      "metadata": {
        "id": "QVcRzA3Ip5Fq"
      },
      "source": [
        "Is there a difference between the DATE\n",
        "and COVID deaths?"
      ]
    },
    {
      "cell_type": "code",
      "metadata": {
        "colab": {
          "base_uri": "https://localhost:8080/"
        },
        "id": "PhVRXGcHq-BD",
        "outputId": "46b5318b-fcd0-4d16-cdb1-61c8a3eb3f33"
      },
      "source": [
        "model2 = smf.ols(\"deaths_covid ~ C(date)\", data = covid19_small).fit()\n",
        "stats.shapiro(model2.resid)"
      ],
      "execution_count": 31,
      "outputs": [
        {
          "output_type": "execute_result",
          "data": {
            "text/plain": [
              "(0.5439736843109131, 7.352392095350728e-16)"
            ]
          },
          "metadata": {},
          "execution_count": 31
        }
      ]
    },
    {
      "cell_type": "code",
      "metadata": {
        "colab": {
          "base_uri": "https://localhost:8080/",
          "height": 111
        },
        "id": "yuuttZIlyFak",
        "outputId": "0f7c3b8e-f472-424b-93a4-f1f3856a3d6a"
      },
      "source": [
        "sm.stats.anova_lm(model2)"
      ],
      "execution_count": 36,
      "outputs": [
        {
          "output_type": "execute_result",
          "data": {
            "text/html": [
              "<div>\n",
              "<style scoped>\n",
              "    .dataframe tbody tr th:only-of-type {\n",
              "        vertical-align: middle;\n",
              "    }\n",
              "\n",
              "    .dataframe tbody tr th {\n",
              "        vertical-align: top;\n",
              "    }\n",
              "\n",
              "    .dataframe thead th {\n",
              "        text-align: right;\n",
              "    }\n",
              "</style>\n",
              "<table border=\"1\" class=\"dataframe\">\n",
              "  <thead>\n",
              "    <tr style=\"text-align: right;\">\n",
              "      <th></th>\n",
              "      <th>df</th>\n",
              "      <th>sum_sq</th>\n",
              "      <th>mean_sq</th>\n",
              "      <th>F</th>\n",
              "      <th>PR(&gt;F)</th>\n",
              "    </tr>\n",
              "  </thead>\n",
              "  <tbody>\n",
              "    <tr>\n",
              "      <th>C(date)</th>\n",
              "      <td>87.0</td>\n",
              "      <td>58362.120424</td>\n",
              "      <td>670.828970</td>\n",
              "      <td>11.72038</td>\n",
              "      <td>0.000021</td>\n",
              "    </tr>\n",
              "    <tr>\n",
              "      <th>Residual</th>\n",
              "      <td>12.0</td>\n",
              "      <td>686.833333</td>\n",
              "      <td>57.236111</td>\n",
              "      <td>NaN</td>\n",
              "      <td>NaN</td>\n",
              "    </tr>\n",
              "  </tbody>\n",
              "</table>\n",
              "</div>"
            ],
            "text/plain": [
              "            df        sum_sq     mean_sq         F    PR(>F)\n",
              "C(date)   87.0  58362.120424  670.828970  11.72038  0.000021\n",
              "Residual  12.0    686.833333   57.236111       NaN       NaN"
            ]
          },
          "metadata": {},
          "execution_count": 36
        }
      ]
    },
    {
      "cell_type": "markdown",
      "metadata": {
        "id": "xuQU56N5iUH9"
      },
      "source": [
        "# The p value is less than 0.05 so theres is a significant difference between the date and COVID deaths"
      ]
    },
    {
      "cell_type": "markdown",
      "metadata": {
        "id": "ElL33kaLysA4"
      },
      "source": [
        "# TUKEY POST HOC TEST"
      ]
    },
    {
      "cell_type": "code",
      "metadata": {
        "colab": {
          "base_uri": "https://localhost:8080/",
          "height": 215
        },
        "id": "0h_b_i8cyrD_",
        "outputId": "a3d88420-8d1d-40b1-f3f1-e233311d0b40"
      },
      "source": [
        "import statsmodels.stats.multicomp as mc\n",
        "comp = mc.MultiComparison(df['dataColumn'], df['categoryColumn'])\n",
        "post_hoc_res = comp.tukeyhsd()\n",
        "post_hoc_res.summary()"
      ],
      "execution_count": 33,
      "outputs": [
        {
          "output_type": "error",
          "ename": "NameError",
          "evalue": "ignored",
          "traceback": [
            "\u001b[0;31m---------------------------------------------------------------------------\u001b[0m",
            "\u001b[0;31mNameError\u001b[0m                                 Traceback (most recent call last)",
            "\u001b[0;32m<ipython-input-33-4a0d4f9daafd>\u001b[0m in \u001b[0;36m<module>\u001b[0;34m()\u001b[0m\n\u001b[1;32m      1\u001b[0m \u001b[0;32mimport\u001b[0m \u001b[0mstatsmodels\u001b[0m\u001b[0;34m.\u001b[0m\u001b[0mstats\u001b[0m\u001b[0;34m.\u001b[0m\u001b[0mmulticomp\u001b[0m \u001b[0;32mas\u001b[0m \u001b[0mmc\u001b[0m\u001b[0;34m\u001b[0m\u001b[0;34m\u001b[0m\u001b[0m\n\u001b[0;32m----> 2\u001b[0;31m \u001b[0mcomp\u001b[0m \u001b[0;34m=\u001b[0m \u001b[0mmc\u001b[0m\u001b[0;34m.\u001b[0m\u001b[0mMultiComparison\u001b[0m\u001b[0;34m(\u001b[0m\u001b[0mdf\u001b[0m\u001b[0;34m[\u001b[0m\u001b[0;34m'dataColumn'\u001b[0m\u001b[0;34m]\u001b[0m\u001b[0;34m,\u001b[0m \u001b[0mdf\u001b[0m\u001b[0;34m[\u001b[0m\u001b[0;34m'categoryColumn'\u001b[0m\u001b[0;34m]\u001b[0m\u001b[0;34m)\u001b[0m\u001b[0;34m\u001b[0m\u001b[0;34m\u001b[0m\u001b[0m\n\u001b[0m\u001b[1;32m      3\u001b[0m \u001b[0mpost_hoc_res\u001b[0m \u001b[0;34m=\u001b[0m \u001b[0mcomp\u001b[0m\u001b[0;34m.\u001b[0m\u001b[0mtukeyhsd\u001b[0m\u001b[0;34m(\u001b[0m\u001b[0;34m)\u001b[0m\u001b[0;34m\u001b[0m\u001b[0;34m\u001b[0m\u001b[0m\n\u001b[1;32m      4\u001b[0m \u001b[0mpost_hoc_res\u001b[0m\u001b[0;34m.\u001b[0m\u001b[0msummary\u001b[0m\u001b[0;34m(\u001b[0m\u001b[0;34m)\u001b[0m\u001b[0;34m\u001b[0m\u001b[0;34m\u001b[0m\u001b[0m\n",
            "\u001b[0;31mNameError\u001b[0m: name 'df' is not defined"
          ]
        }
      ]
    },
    {
      "cell_type": "markdown",
      "metadata": {
        "id": "B2amrF4qp9YW"
      },
      "source": [
        "Is there a difference between staffing shortages\n",
        "and COVID deaths?"
      ]
    },
    {
      "cell_type": "code",
      "metadata": {
        "colab": {
          "base_uri": "https://localhost:8080/"
        },
        "id": "G3m80S8orjZz",
        "outputId": "39319430-bcdb-4d99-a850-66730abb0050"
      },
      "source": [
        "model3 = smf.ols(\"deaths_covid ~ C(critical_staffing_shortage_today_yes)\", data = covid19_small).fit()\n",
        "stats.shapiro(model3.resid)"
      ],
      "execution_count": 37,
      "outputs": [
        {
          "output_type": "execute_result",
          "data": {
            "text/plain": [
              "(0.7156696319580078, 2.0577207472671777e-12)"
            ]
          },
          "metadata": {},
          "execution_count": 37
        }
      ]
    },
    {
      "cell_type": "code",
      "metadata": {
        "colab": {
          "base_uri": "https://localhost:8080/",
          "height": 111
        },
        "id": "cAAU4OekyISf",
        "outputId": "c4ecb356-0487-4467-ff1c-b44eae0cc8e3"
      },
      "source": [
        "sm.stats.anova_lm(model3)"
      ],
      "execution_count": 38,
      "outputs": [
        {
          "output_type": "execute_result",
          "data": {
            "text/html": [
              "<div>\n",
              "<style scoped>\n",
              "    .dataframe tbody tr th:only-of-type {\n",
              "        vertical-align: middle;\n",
              "    }\n",
              "\n",
              "    .dataframe tbody tr th {\n",
              "        vertical-align: top;\n",
              "    }\n",
              "\n",
              "    .dataframe thead th {\n",
              "        text-align: right;\n",
              "    }\n",
              "</style>\n",
              "<table border=\"1\" class=\"dataframe\">\n",
              "  <thead>\n",
              "    <tr style=\"text-align: right;\">\n",
              "      <th></th>\n",
              "      <th>df</th>\n",
              "      <th>sum_sq</th>\n",
              "      <th>mean_sq</th>\n",
              "      <th>F</th>\n",
              "      <th>PR(&gt;F)</th>\n",
              "    </tr>\n",
              "  </thead>\n",
              "  <tbody>\n",
              "    <tr>\n",
              "      <th>C(critical_staffing_shortage_today_yes)</th>\n",
              "      <td>28.0</td>\n",
              "      <td>17075.704049</td>\n",
              "      <td>609.846573</td>\n",
              "      <td>0.990512</td>\n",
              "      <td>0.494246</td>\n",
              "    </tr>\n",
              "    <tr>\n",
              "      <th>Residual</th>\n",
              "      <td>68.0</td>\n",
              "      <td>41866.811415</td>\n",
              "      <td>615.688403</td>\n",
              "      <td>NaN</td>\n",
              "      <td>NaN</td>\n",
              "    </tr>\n",
              "  </tbody>\n",
              "</table>\n",
              "</div>"
            ],
            "text/plain": [
              "                                           df        sum_sq  ...         F    PR(>F)\n",
              "C(critical_staffing_shortage_today_yes)  28.0  17075.704049  ...  0.990512  0.494246\n",
              "Residual                                 68.0  41866.811415  ...       NaN       NaN\n",
              "\n",
              "[2 rows x 5 columns]"
            ]
          },
          "metadata": {},
          "execution_count": 38
        }
      ]
    },
    {
      "cell_type": "markdown",
      "metadata": {
        "id": "hrsmb2chjFt4"
      },
      "source": [
        "# The p value is greater than 0.05 so theres is no significant difference between the staffing shortages and COVID deaths"
      ]
    },
    {
      "cell_type": "markdown",
      "metadata": {
        "id": "vK_5zEv0jrCH"
      },
      "source": [
        "# TUKEY POST HOC TEST"
      ]
    },
    {
      "cell_type": "code",
      "metadata": {
        "id": "DuJXEUrzjra3"
      },
      "source": [
        ""
      ],
      "execution_count": null,
      "outputs": []
    }
  ]
}